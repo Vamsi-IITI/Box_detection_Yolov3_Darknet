{
  "nbformat": 4,
  "nbformat_minor": 0,
  "metadata": {
    "colab": {
      "name": "TinyYoloV3*.ipynb",
      "provenance": [],
      "private_outputs": true,
      "collapsed_sections": [],
      "toc_visible": true,
      "mount_file_id": "1EyM8fvm_VHFxZG_jfMjuY39xUbIJVfqK",
      "authorship_tag": "ABX9TyN71jRJCcW6O3yUMEYkkwAn",
      "include_colab_link": true
    },
    "kernelspec": {
      "name": "python3",
      "display_name": "Python 3"
    },
    "accelerator": "GPU"
  },
  "cells": [
    {
      "cell_type": "markdown",
      "metadata": {
        "id": "view-in-github",
        "colab_type": "text"
      },
      "source": [
        "<a href=\"https://colab.research.google.com/github/jayeshbhole/YoloV3-Tiny-Google-Colab/blob/master/Train_Tiny_YoloV3.ipynb\" target=\"_parent\"><img src=\"https://colab.research.google.com/assets/colab-badge.svg\" alt=\"Open In Colab\"/></a>"
      ]
    },
    {
      "cell_type": "markdown",
      "metadata": {
        "id": "pv7upN56HDMh",
        "colab_type": "text"
      },
      "source": [
        "#Step 1: Enabling GPU within your notebook\n",
        "\n",
        "You need to enable GPU acceleration within your Colab notebook so that your YOLOv3 system will be able to process detections over 100 faster than CPU.\n",
        "\n",
        "Steps:\n",
        "\n",
        "    i) Click Edit at top left of your notebook\n",
        "\n",
        "    ii) Click Notebook Settings within dropdown\n",
        "\n",
        "    iii) Under 'Hardware Accelerator' select GPU and then hit Save\n",
        "\n",
        "    iv) Set the Runtime type to Python 3\n",
        "\n",
        "\n",
        "Your notebook should now have GPU enabled!"
      ]
    },
    {
      "cell_type": "markdown",
      "metadata": {
        "id": "qx2ASkufHfe3",
        "colab_type": "text"
      },
      "source": [
        "#Step 2 : Mounting the Google Drive\n",
        "\n",
        "Mount the Google Drive to your runtime by executing the following commands.\n",
        "\n",
        "The cell will give a link as output. Open it and login to your Google Account. Copy the authorisation code and paste it in the box and hit enter."
      ]
    },
    {
      "cell_type": "code",
      "metadata": {
        "id": "lWQKTJ_vBdhc",
        "colab_type": "code",
        "colab": {}
      },
      "source": [
        "%cd ..\n",
        "from google.colab import drive\n",
        "drive.mount('/content/gdrive')"
      ],
      "execution_count": 0,
      "outputs": []
    },
    {
      "cell_type": "markdown",
      "metadata": {
        "id": "GucDw9-bIfTK",
        "colab_type": "text"
      },
      "source": [
        "----\n",
        "Here we create a symbolic link for the drive ie. the paths are equivalent\n",
        " \n",
        "    '/content/gdrive/My\\ Drive/' is equivalent to '/mydrive \n"
      ]
    },
    {
      "cell_type": "code",
      "metadata": {
        "id": "f4ELwMhdfsfw",
        "colab_type": "code",
        "colab": {}
      },
      "source": [
        "# this creates a symbolic link so that now the path /content/gdrive/My\\ Drive/ is equal to /mydrive\n",
        "#if your drive cannot be linked, uncomment and run the next command\n",
        "#!sudo unlink /mydrive\n",
        "!ln -s /content/gdrive/My\\ Drive/ /mydrive\n",
        "!ls /mydrive"
      ],
      "execution_count": 0,
      "outputs": []
    },
    {
      "cell_type": "markdown",
      "metadata": {
        "id": "-Lex0IFfJBRc",
        "colab_type": "text"
      },
      "source": [
        "#Step 3 : Cloning Darknet and Building it\n",
        "\n",
        "The following cells will clone darknet from [AlexeyAB's darknet repository](https://github.com/AlexeyAB/darknet#how-to-train-to-detect-your-custom-objects) , adjust the Makefile to enable OPENCV and GPU for darknet and then build darknet.\n",
        "\n",
        "Ignore warnings when you run the '!make' cell!"
      ]
    },
    {
      "cell_type": "code",
      "metadata": {
        "id": "2q_BaO6zBDVD",
        "colab_type": "code",
        "colab": {}
      },
      "source": [
        "# clone darknet repo\n",
        "!git clone https://github.com/AlexeyAB/darknet\n",
        "\n",
        "# change makefile to have GPU and OPENCV enabled\n",
        "%cd darknet\n",
        "!sed -i 's/OPENCV=0/OPENCV=1/' Makefile\n",
        "!sed -i 's/GPU=0/GPU=1/' Makefile\n",
        "!sed -i 's/CUDNN=0/CUDNN=1/' Makefile\n",
        "\n",
        "# verify CUDA\n",
        "!/usr/local/cuda/bin/nvcc --version"
      ],
      "execution_count": 0,
      "outputs": []
    },
    {
      "cell_type": "code",
      "metadata": {
        "id": "RpRS2zSAJc86",
        "colab_type": "code",
        "colab": {}
      },
      "source": [
        "# make darknet (build)\n",
        "!make"
      ],
      "execution_count": 0,
      "outputs": []
    },
    {
      "cell_type": "markdown",
      "metadata": {
        "id": "O1y16B9ZOao0",
        "colab_type": "text"
      },
      "source": [
        "#Step 4 : Download the pretrained weights for Yolo"
      ]
    },
    {
      "cell_type": "code",
      "metadata": {
        "id": "hLNobF1DOvxk",
        "colab_type": "code",
        "colab": {}
      },
      "source": [
        "# get yolov3-tiny pretrained coco dataset weights\n",
        "!wget https://pjreddie.com/media/files/yolov3-tiny.weights\n",
        "\n",
        "      #OR\n",
        "      \n",
        "#!cp /mydrive/yolov3-tiny.weights /darknet"
      ],
      "execution_count": 0,
      "outputs": []
    },
    {
      "cell_type": "code",
      "metadata": {
        "id": "vvo1ch3KfrSR",
        "colab_type": "code",
        "colab": {}
      },
      "source": [
        "!./darknet partial cfg/yolov3-tiny.cfg yolov3-tiny.weights yolov3-tiny.conv.15 15"
      ],
      "execution_count": 0,
      "outputs": []
    },
    {
      "cell_type": "markdown",
      "metadata": {
        "id": "yfvcQd4dObND",
        "colab_type": "text"
      },
      "source": [
        "#Step 5:\n",
        "###Define general functions"
      ]
    },
    {
      "cell_type": "code",
      "metadata": {
        "id": "QSyMZfBUBZ0h",
        "colab_type": "code",
        "colab": {}
      },
      "source": [
        "# define helper functions\n",
        "def imShow(path):\n",
        "  import cv2\n",
        "  import matplotlib.pyplot as plt\n",
        "  %matplotlib inline\n",
        "\n",
        "  image = cv2.imread(path)\n",
        "  height, width = image.shape[:2]\n",
        "  resized_image = cv2.resize(image,(3*width, 3*height), interpolation = cv2.INTER_CUBIC)\n",
        "\n",
        "  fig = plt.gcf()\n",
        "  fig.set_size_inches(18, 10)\n",
        "  plt.axis(\"off\")\n",
        "  plt.imshow(cv2.cvtColor(resized_image, cv2.COLOR_BGR2RGB))\n",
        "  plt.show()\n",
        "\n",
        "# use this to upload files\n",
        "def upload():\n",
        "  from google.colab import files\n",
        "  uploaded = files.upload() \n",
        "  for name, data in uploaded.items():\n",
        "    with open(name, 'wb') as f:\n",
        "      f.write(data)\n",
        "      print ('saved file', name)\n",
        "\n",
        "# use this to download a file  \n",
        "def download(path):\n",
        "  from google.colab import files\n",
        "  files.download(path)"
      ],
      "execution_count": 0,
      "outputs": []
    },
    {
      "cell_type": "markdown",
      "metadata": {
        "id": "BLn8z9NrOcs-",
        "colab_type": "text"
      },
      "source": [
        "###Run Detection to check if everything is working fine"
      ]
    },
    {
      "cell_type": "code",
      "metadata": {
        "id": "1Wp8cCZCBZtt",
        "colab_type": "code",
        "colab": {}
      },
      "source": [
        "# look we can run detection on tiny yolo\n",
        "!./darknet detect cfg/yolov3-tiny.cfg yolov3-tiny.weights data/dog.jpg\n",
        "imShow('predictions.jpg')"
      ],
      "execution_count": 0,
      "outputs": []
    },
    {
      "cell_type": "markdown",
      "metadata": {
        "id": "HuyZS4TAPbtx",
        "colab_type": "text"
      },
      "source": [
        "#Step 6 :\n",
        "##Move your training images to the data folder(only if the images are few)\n"
      ]
    },
    {
      "cell_type": "code",
      "metadata": {
        "id": "DzPyCo6CFIrd",
        "colab_type": "code",
        "colab": {}
      },
      "source": [
        "#!cd ../data\n",
        "# !mkdir obj\n",
        "#!cp -r /mydrive/yolotiny/obj ../data/obj"
      ],
      "execution_count": 0,
      "outputs": []
    },
    {
      "cell_type": "markdown",
      "metadata": {
        "id": "gnPuPYpSUN-g",
        "colab_type": "text"
      },
      "source": [
        "## obj.names and obj.data\n",
        "\n",
        "Create a new file within a code or text editor called obj.names and you will make this file exactly the same as your classes.txt in the dataset generation step.\n",
        "\n",
        "\n",
        "You will also create a obj.data file and fill it in like this (change your number of classes accordingly, as well as your backup location). \n",
        "This backup path is where we will save the weights to of our model throughout training. Create a backup folder in your google drive and put its correct path in this file.\n",
        "\n",
        "## train.txt\n",
        "This file will contain the relative paths of all your training images."
      ]
    },
    {
      "cell_type": "code",
      "metadata": {
        "id": "onHaZGVgNP4C",
        "colab_type": "code",
        "colab": {}
      },
      "source": [
        "# upload the obj.names and obj.data files to cloud VM from Google Drive\n",
        "!cp /mydrive/yolo/obj.names ./data\n",
        "!cp /mydrive/yolo/obj.data  ./data\n",
        "!cp /mydrive/yolo/train.txt  ./data\n",
        "\n",
        "# upload the obj.names and obj.data files to cloud VM from local machine (uncomment to use)\n",
        "#%cd data\n",
        "#upload()\n",
        "#%cd .. "
      ],
      "execution_count": 0,
      "outputs": []
    },
    {
      "cell_type": "markdown",
      "metadata": {
        "id": "z3rCTDroVzQY",
        "colab_type": "text"
      },
      "source": [
        "## .cfg file\n",
        "Make changes to the cfg file as per the git repo of [AlexeyAB](https://github.com/AlexeyAB/darknet#how-to-train-to-detect-your-custom-objects) and upload it to the Cloud VM."
      ]
    },
    {
      "cell_type": "code",
      "metadata": {
        "id": "ilFRrkOiFIlu",
        "colab_type": "code",
        "colab": {}
      },
      "source": [
        "#copy the cfg file \n",
        "!cp /mydrive/yolotiny/yolov3-tiny-obj.cfg ../darknet/cfg"
      ],
      "execution_count": 0,
      "outputs": []
    },
    {
      "cell_type": "markdown",
      "metadata": {
        "id": "8pG6KQ4_b2oq",
        "colab_type": "text"
      },
      "source": [
        "If you have saved the weights file in Drive, copy it in the darknet directory. "
      ]
    },
    {
      "cell_type": "code",
      "metadata": {
        "id": "uzFQcyQnFIdv",
        "colab_type": "code",
        "colab": {}
      },
      "source": [
        "# upload pretrained convolutional layer weights through drive\n",
        "#!cp /mydrive/yolotiny/yolov3-tiny.conv.15 ../darknet"
      ],
      "execution_count": 0,
      "outputs": []
    },
    {
      "cell_type": "markdown",
      "metadata": {
        "id": "ziiuIj6sX-1K",
        "colab_type": "text"
      },
      "source": [
        "#Final Step :\n",
        "Hold (CTRL + SHIFT + i) at the same time to open up the inspector view on your browser.\n",
        "\n",
        "Add the following code to your console window and hit enter.\n",
        "```\n",
        "function ClickConnect(){\n",
        "console.log(\"Working\"); \n",
        "document.querySelector(\"colab-toolbar-button#connect\").click() \n",
        "}\n",
        "setInterval(ClickConnect,60000)\n",
        "```\n",
        "Now, it will click the screen every 10 minutes so that you don't get kicked off for being idle.\n",
        "\n",
        "Start your training.\n",
        "\n"
      ]
    },
    {
      "cell_type": "code",
      "metadata": {
        "id": "vqSB9VIuFIUe",
        "colab_type": "code",
        "colab": {}
      },
      "source": [
        "!./darknet detector train data/obj.data yolov3-tiny-obj.cfg yolov3-tiny.conv.15 -dont_show\n",
        "imShow('chart.png')"
      ],
      "execution_count": 0,
      "outputs": []
    },
    {
      "cell_type": "code",
      "metadata": {
        "id": "mldtGyYbVsc7",
        "colab_type": "code",
        "colab": {}
      },
      "source": [
        "#Re train using past weights\n",
        "!./darknet detector train data/obj.data cfg/yolov3-tiny-obj.cfg /mydrive/yolotiny/backup/yolov3-tiny-obj_last.weights -dont_show\n",
        "imShow('chart.png')\n",
        "#download('chart.png')"
      ],
      "execution_count": 0,
      "outputs": []
    },
    {
      "cell_type": "markdown",
      "metadata": {
        "id": "T8s6Jh9SYdEy",
        "colab_type": "text"
      },
      "source": [
        "##Test your model :\n",
        "Set the cfg file to training parameters and run the detector."
      ]
    },
    {
      "cell_type": "code",
      "metadata": {
        "id": "DgPlgkYYVZ_0",
        "colab_type": "code",
        "colab": {}
      },
      "source": [
        "# need to set our custom cfg to test mode \n",
        "%cd cfg\n",
        "!sed -i 's/batch=64/batch=1/' yolov3-tiny-obj.cfg\n",
        "!sed -i 's/subdivisions=16/subdivisions=1/' yolov3-tiny-obj.cfg\n",
        "%cd .."
      ],
      "execution_count": 0,
      "outputs": []
    },
    {
      "cell_type": "code",
      "metadata": {
        "colab_type": "code",
        "id": "Psi_0NeUCQWk",
        "colab": {}
      },
      "source": [
        "# run your custom detector with this command (upload an image to your google drive to test, thresh flag sets accuracy that detection must be in order to show it)\n",
        "!./darknet detector test data/obj.data cfg/yolov3-tiny-obj.cfg /mydrive/yolotiny/backup/yolov3-tiny-obj_5000.weights /mydrive/yolotiny/obj/77.JPEG -thresh 0.3\n",
        "imShow('predictions.jpg')"
      ],
      "execution_count": 0,
      "outputs": []
    }
  ]
}